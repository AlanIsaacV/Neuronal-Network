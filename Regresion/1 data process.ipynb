{
 "metadata": {
  "language_info": {
   "codemirror_mode": {
    "name": "ipython",
    "version": 3
   },
   "file_extension": ".py",
   "mimetype": "text/x-python",
   "name": "python",
   "nbconvert_exporter": "python",
   "pygments_lexer": "ipython3",
   "version": 3
  },
  "orig_nbformat": 2,
  "kernelspec": {
   "name": "python_defaultSpec_1595644885147",
   "display_name": "Python 3.7.6 64-bit ('ai': conda)"
  }
 },
 "nbformat": 4,
 "nbformat_minor": 2,
 "cells": [
  {
   "cell_type": "code",
   "execution_count": null,
   "metadata": {},
   "outputs": [],
   "source": [
    "from IPython.display import display\n",
    "\n",
    "import pandas as pd\n",
    "import numpy as np\n",
    "import matplotlib.pyplot as plt\n",
    "import seaborn as sns\n",
    "\n",
    "%matplotlib inline"
   ]
  },
  {
   "cell_type": "code",
   "execution_count": null,
   "metadata": {
    "tags": []
   },
   "outputs": [],
   "source": [
    "df = pd.read_parquet('../data/craiglist_cars.parquet')\n",
    "\n",
    "display(df.info())\n",
    "df.head(3)"
   ]
  },
  {
   "cell_type": "code",
   "execution_count": null,
   "metadata": {},
   "outputs": [],
   "source": [
    "def show_nas(df):\n",
    "    empty_percentage = df.isna().sum()/df.shape[0]\n",
    "    empty_percentage = empty_percentage[empty_percentage > 0]\n",
    "    display(empty_percentage)\n",
    "\n",
    "show_nas(df)\n",
    "\n",
    "columns_more_empty = empty_percentage[empty_percentage >= 0.5].index\n",
    "df.drop(columns=columns_more_empty, inplace=True)\n",
    "\n",
    "show_nas()"
   ]
  },
  {
   "cell_type": "code",
   "execution_count": null,
   "metadata": {},
   "outputs": [],
   "source": [
    "df['cylinders'].replace( regex={\n",
    "    r'\\s+\\w+$' : '', \n",
    "    'other' : \n",
    "    }).unique()"
   ]
  },
  {
   "cell_type": "code",
   "execution_count": null,
   "metadata": {},
   "outputs": [],
   "source": [
    "df_categorical = df.select_dtypes('object')\n",
    "df.drop(columns=df_categorical.columns, inplace=True)\n"
   ]
  },
  {
   "cell_type": "code",
   "execution_count": null,
   "metadata": {},
   "outputs": [],
   "source": [
    "for column in df_categorical:\n",
    "    df_categorical[column].fillna(df_categorical[column].mode()[0], inplace=True)\n",
    "\n",
    "show_nas()\n",
    "df_categorical.nunique()"
   ]
  },
  {
   "cell_type": "code",
   "execution_count": null,
   "metadata": {},
   "outputs": [],
   "source": [
    "df = pd.concat([df, pd.get_dummies(df_categorical)], axis=1)\n",
    "\n"
   ]
  }
 ]
}