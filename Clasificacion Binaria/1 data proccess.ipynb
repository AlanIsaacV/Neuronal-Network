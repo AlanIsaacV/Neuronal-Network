{
 "metadata": {
  "language_info": {
   "codemirror_mode": {
    "name": "ipython",
    "version": 3
   },
   "file_extension": ".py",
   "mimetype": "text/x-python",
   "name": "python",
   "nbconvert_exporter": "python",
   "pygments_lexer": "ipython3",
   "version": "3.7.6-final"
  },
  "orig_nbformat": 2,
  "kernelspec": {
   "name": "python_defaultSpec_1595643362115",
   "display_name": "Python 3.7.6 64-bit ('ai': conda)"
  }
 },
 "nbformat": 4,
 "nbformat_minor": 2,
 "cells": [
  {
   "source": [
    "# <h1 id=\"problema\">Contexto analítico</h1>\n",
    "\n",
    "Este caso se basa en un reto propuesto por Red Hat en la plataforma Kaggle. (https://www.kaggle.com/c/predicting-red-hat-business-value/data) \n",
    "\n",
    "Red Hat es capaz de obtener una importante cantidad de información de comportamiento de sus clientes. El interes de la compañia se basa en la busqueda de mejores metodos para analizar sus clientes para predecir sobre cuales deberian hacer un especial enfasis que podrian convertirse en clientes de alto valor.\n",
    "\n",
    "En este reto se propone crear un algoritmo de clasificación que identifique los clientes con mayor potencial para convertirse en clientes de alto valor para Red Hat basados en su actividad.\n",
    "\n",
    "Se cuenta con dos datasets (people.csv y act_train.csv) los cuales cargaremos directamente a Colab.\n"
   ],
   "cell_type": "markdown",
   "metadata": {}
  },
  {
   "cell_type": "code",
   "execution_count": null,
   "metadata": {},
   "outputs": [],
   "source": [
    "from IPython.display import display\n",
    "\n",
    "import re\n",
    "import numpy as np\n",
    "import pandas as pd\n",
    "\n",
    "pd.options.display.float_format = '{:.3f}'.format"
   ]
  },
  {
   "cell_type": "code",
   "execution_count": null,
   "metadata": {
    "tags": []
   },
   "outputs": [],
   "source": [
    "path = '../data/{}.parquet'\n",
    "\n",
    "df_activity = pd.read_parquet(path.format('act_train'))\n",
    "df_people = pd.read_parquet(path.format('people'))\n",
    "\n",
    "df_activity.set_index('people_id', drop=True, inplace=True)\n",
    "df_people.set_index('people_id', drop=True, inplace=True)\n",
    "\n",
    "display(df_people.head(2))\n",
    "display(df_activity.head(2))\n"
   ]
  },
  {
   "cell_type": "code",
   "execution_count": null,
   "metadata": {
    "tags": []
   },
   "outputs": [],
   "source": [
    "# Merge both df by index (people_id)\n",
    "# df = df_activity.join(df_people, lsuffix='_activity')\n",
    "df = pd.merge(df_people, df_activity, on='people_id', suffixes=('', '_activity'))\n",
    "\n",
    "print(f'Before:')\n",
    "print(f'   Activity: {df_activity.shape}')\n",
    "print(f'   People:    {df_people.shape} \\n')\n",
    "print(f'After:')\n",
    "print(f'   New:      {df.shape}')"
   ]
  },
  {
   "cell_type": "code",
   "execution_count": null,
   "metadata": {},
   "outputs": [],
   "source": [
    "empty_percentage = (df.isna().sum()/df.shape[0])\n",
    "empty_percentage = empty_percentage[empty_percentage > 0]\n",
    "display(empty_percentage)\n",
    "\n",
    "# Drop columns with most NAs\n",
    "columns_more_empty = empty_percentage[empty_percentage >= 0.5].index\n",
    "df.drop(columns=columns_more_empty, inplace=True)\n",
    "\n"
   ]
  },
  {
   "cell_type": "code",
   "execution_count": null,
   "metadata": {},
   "outputs": [],
   "source": [
    "# Replace empty values by the most common\n",
    "df['char_10_activity'].fillna(df['char_10_activity'].mode()[0], inplace=True)\n",
    "\n",
    "empty_percentage = (df.isna().sum()/df.shape[0])\n",
    "empty_percentage = empty_percentage[empty_percentage > 0]\n",
    "display(empty_percentage)"
   ]
  },
  {
   "cell_type": "code",
   "execution_count": null,
   "metadata": {},
   "outputs": [],
   "source": [
    "display(df.dtypes.value_counts())"
   ]
  },
  {
   "cell_type": "code",
   "execution_count": null,
   "metadata": {},
   "outputs": [],
   "source": [
    "# Replace bool types for number types\n",
    "df.replace({True: 1, False: 0}, inplace=True)\n",
    "display(df.dtypes.value_counts())"
   ]
  },
  {
   "cell_type": "code",
   "execution_count": null,
   "metadata": {},
   "outputs": [],
   "source": [
    "# Get different times formats to int type from date columns \n",
    "def split_date(dataframe, column='date', sufix='', times=('day', 'weekday', 'week', 'month', 'year', 'quarter')):\n",
    "    series_time = pd.to_datetime(dataframe[column])\n",
    "    dataframe.drop(columns=[column], inplace=True)\n",
    "\n",
    "    for time in times:\n",
    "        dataframe[time + sufix] = getattr(series_time.dt, time)\n",
    "\n",
    "\n",
    "split_date(df)\n",
    "split_date(df, 'date_activity', '_activity')\n",
    "\n",
    "display(df.dtypes.value_counts())"
   ]
  },
  {
   "cell_type": "code",
   "execution_count": null,
   "metadata": {
    "tags": []
   },
   "outputs": [],
   "source": [
    "print('UNIQUE VALUES\\n')\n",
    "display(df.select_dtypes('object').nunique())\n",
    "\n",
    "df.select_dtypes('object').head(2)"
   ]
  },
  {
   "cell_type": "code",
   "execution_count": null,
   "metadata": {
    "tags": []
   },
   "outputs": [],
   "source": [
    "# Deleting text from some columns to convert to int\n",
    "columns_del_txt = ['activity_id', 'char_10_activity', 'group_1']\n",
    "df[columns_del_txt] = df[columns_del_txt].applymap(\n",
    "    lambda x: re.findall(r'(\\d+$)', x)[0]).astype('int64', copy=False)\n",
    "\n",
    "display(df.dtypes.value_counts())\n",
    "display(df[columns_del_txt].head(3))\n",
    "\n",
    "print('UNIQUE VALUES\\n')\n",
    "df.select_dtypes('object').nunique()"
   ]
  },
  {
   "cell_type": "code",
   "execution_count": null,
   "metadata": {},
   "outputs": [],
   "source": [
    "categorical = df.select_dtypes('object')\n",
    "df_one_hot_enc = pd.get_dummies(categorical)\n",
    "\n",
    "df.drop(columns=categorical.columns, inplace=True)\n",
    "df = pd.concat([df, df_one_hot_enc], axis=1)\n",
    "\n",
    "df.dtypes.value_counts()"
   ]
  },
  {
   "cell_type": "code",
   "execution_count": null,
   "metadata": {},
   "outputs": [],
   "source": [
    "columns_range = np.linspace(0, len(df.columns), int(len(df.columns)/10), dtype=int)\n",
    "\n",
    "for index in range(len(columns_range)):\n",
    "    try:\n",
    "        start = columns_range[index]\n",
    "        end = columns_range[index + 1]\n",
    "        display(df.iloc[0:3, start:end])\n",
    "    except IndexError:\n",
    "        pass"
   ]
  },
  {
   "cell_type": "code",
   "execution_count": null,
   "metadata": {},
   "outputs": [],
   "source": [
    "df.to_parquet('../data/redhat_v1.parquet')"
   ]
  }
 ]
}